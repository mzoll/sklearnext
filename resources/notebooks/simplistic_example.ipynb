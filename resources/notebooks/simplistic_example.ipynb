{
 "cells": [
  {
   "cell_type": "code",
   "execution_count": 1,
   "metadata": {},
   "outputs": [],
   "source": [
    "import os, sys, pathlib\n",
    "base_path = '/home/marcel/repo/github_mzoll'\n",
    "projects = ['sklearnext']\n",
    "\n",
    "for p in projects:\n",
    "    sys.path.insert(0, os.path.join(base_path, p))"
   ]
  },
  {
   "cell_type": "code",
   "execution_count": 2,
   "metadata": {},
   "outputs": [],
   "source": [
    "'''\n",
    "simplistic example showing how to use the modules contained in sklearnext\n",
    "'''\n",
    "\n",
    "#import sys, os, pathlib\n",
    "#sys.path.insert(0, str(pathlib.Path(os.getcwd()).parents[1] / 'python'))\n",
    "\n",
    "#some basic imports\n",
    "import sys, os, copy\n",
    "import numpy as np\n",
    "import datetime as dt\n",
    "import pandas as pd\n",
    "\n",
    "#set a seed for the random number generator\n",
    "np.random.seed( 1000 )"
   ]
  },
  {
   "cell_type": "code",
   "execution_count": 3,
   "metadata": {},
   "outputs": [
    {
     "name": "stdout",
     "output_type": "stream",
     "text": [
      "((10000, 4), Index([u'Cont', u'Device', u'Label', u'Time'], dtype='object'))\n",
      "((10000,), 'coverage 0.000000')\n",
      "((8000, 4), (8000,), (2000, 4), (2000,))\n"
     ]
    }
   ],
   "source": [
    "#=========================================================================\n",
    "# construct a dataset with some observations and all kind of mixed lables\n",
    "#=========================================================================\n",
    "\n",
    "#--- define the sample size\n",
    "nObs = 10000\n",
    "\n",
    "#--- create a observation matrix\n",
    "idx = np.array(list(range(nObs))) + 1000\n",
    "c0 = np.array(np.random.choice(['A','B'], size=int(nObs*0.8)).tolist() + ['A']*int(nObs*0.2) )\n",
    "\n",
    "c1_h = np.random.choice([12,13,14], size=nObs)\n",
    "c1_d = np.random.choice([0,1], size=nObs)\n",
    "c1_s = np.random.randint(60, size=nObs)\n",
    "\n",
    "c1 = []\n",
    "for i in range(nObs):\n",
    "    c1.append( dt.datetime(2017,1,1,0,0,0) + dt.timedelta(days=int(c1_d[i]), hours=int(c1_h[i]), minutes=int(c1_s[i])) )\n",
    "\n",
    "c2 = np.random.choice(['a','b','c'], size=nObs)\n",
    "c3 = np.round(np.random.rand(nObs), 2)\n",
    "\n",
    "X = pd.DataFrame({'Device': c0,\n",
    "             'Time': c1,\n",
    "             'Label':c2,\n",
    "             'Cont':c3}, index = idx)\n",
    "\n",
    "print(X.shape, X.columns)\n",
    "\n",
    "#--- create a results vector\n",
    "class xthelper():\n",
    "    j = 0\n",
    "    def __int__(self):\n",
    "        pass\n",
    "    def __call__(self, row):\n",
    "        dev_dict = {'A':0.3, 'B':0.8}\n",
    "        label_dict = {'a':0.8, 'b':0.6, 'c':0.7}\n",
    "        prob =  ( 0.5 + 0.1*c1_d[self.j] - (c1_h[self.j]-12)*0.5 ) * label_dict[row['Label']] + (row['Cont']-0.5)/4\n",
    "        prob = max(min(1.,prob), 0.)\n",
    "\n",
    "        self.j+=1\n",
    "        if row['Device'] == 'A':\n",
    "            return int(prob>0.3)\n",
    "        else:\n",
    "            return int(prob>0.5)\n",
    "    \n",
    "y= X.apply(xthelper(), axis=1)\n",
    "\n",
    "print(y.shape, \"coverage %f\" % (np.sum(y)/y.shape[0]))\n",
    "\n",
    "#split up dataset into train and (held out)test sample\n",
    "from sklearn.model_selection import train_test_split\n",
    "X_train, X_test, y_train, y_test = train_test_split(X, y, test_size=.2, random_state=0)\n",
    "\n",
    "print(X_train.shape, y_train.shape, X_test.shape, y_test.shape)"
   ]
  },
  {
   "cell_type": "code",
   "execution_count": 6,
   "metadata": {},
   "outputs": [
    {
     "data": {
      "text/html": [
       "<div>\n",
       "<style scoped>\n",
       "    .dataframe tbody tr th:only-of-type {\n",
       "        vertical-align: middle;\n",
       "    }\n",
       "\n",
       "    .dataframe tbody tr th {\n",
       "        vertical-align: top;\n",
       "    }\n",
       "\n",
       "    .dataframe thead th {\n",
       "        text-align: right;\n",
       "    }\n",
       "</style>\n",
       "<table border=\"1\" class=\"dataframe\">\n",
       "  <thead>\n",
       "    <tr style=\"text-align: right;\">\n",
       "      <th></th>\n",
       "      <th>Cont</th>\n",
       "      <th>Device</th>\n",
       "      <th>Label</th>\n",
       "      <th>Time</th>\n",
       "    </tr>\n",
       "  </thead>\n",
       "  <tbody>\n",
       "    <tr>\n",
       "      <th>8389</th>\n",
       "      <td>0.53</td>\n",
       "      <td>B</td>\n",
       "      <td>a</td>\n",
       "      <td>2017-01-01 13:45:00</td>\n",
       "    </tr>\n",
       "    <tr>\n",
       "      <th>10275</th>\n",
       "      <td>0.38</td>\n",
       "      <td>A</td>\n",
       "      <td>a</td>\n",
       "      <td>2017-01-01 12:12:00</td>\n",
       "    </tr>\n",
       "    <tr>\n",
       "      <th>3995</th>\n",
       "      <td>0.82</td>\n",
       "      <td>A</td>\n",
       "      <td>c</td>\n",
       "      <td>2017-01-02 12:29:00</td>\n",
       "    </tr>\n",
       "    <tr>\n",
       "      <th>6316</th>\n",
       "      <td>0.37</td>\n",
       "      <td>B</td>\n",
       "      <td>c</td>\n",
       "      <td>2017-01-02 12:33:00</td>\n",
       "    </tr>\n",
       "    <tr>\n",
       "      <th>1356</th>\n",
       "      <td>0.66</td>\n",
       "      <td>A</td>\n",
       "      <td>c</td>\n",
       "      <td>2017-01-02 12:08:00</td>\n",
       "    </tr>\n",
       "  </tbody>\n",
       "</table>\n",
       "</div>"
      ],
      "text/plain": [
       "       Cont Device Label                Time\n",
       "8389   0.53      B     a 2017-01-01 13:45:00\n",
       "10275  0.38      A     a 2017-01-01 12:12:00\n",
       "3995   0.82      A     c 2017-01-02 12:29:00\n",
       "6316   0.37      B     c 2017-01-02 12:33:00\n",
       "1356   0.66      A     c 2017-01-02 12:08:00"
      ]
     },
     "execution_count": 6,
     "metadata": {},
     "output_type": "execute_result"
    }
   ],
   "source": [
    "X_train.head()"
   ]
  },
  {
   "cell_type": "code",
   "execution_count": 7,
   "metadata": {},
   "outputs": [],
   "source": [
    "#======================\n",
    "# PIPELINE ASSEMBLY\n",
    "#======================\n",
    "from sklearnext.assembly import *\n",
    "from sklearnext.sklearn.estimators.gbdtree_learner import *\n",
    "from sklearnext.sklearn.estimators.oneprob_classifier import *\n",
    "from sklearnext.estimators.wrappers import *\n",
    "from sklearnext.transformers import *\n",
    "\n",
    "#assemble the pipeline by bits an pieces\n",
    "\n",
    "#OneHot/Label encoding for feature 'Label'\n",
    "tf0 = TransformerPipe([\n",
    "        ('pagehistExtr', ColumnsSelect(['Label'])),\n",
    "        ('labelEnc', OneHotTransformer())\n",
    "    ])\n",
    "\n",
    "#Extraction of Hour and Day-of-Month fromfeature  'Time'\n",
    "tf1 = TransformerPipe([\n",
    "        ('starttimeExtr', ColumnsSelect('Time')),\n",
    "        ('hwdmyExtr', HourWeekdayDayMonthYearTransformer()),\n",
    "        ('hwdselect', ColumnsSelect(['Time_hour', 'Time_day']))\n",
    "    ])\n",
    "\n",
    "#assemble a set of to use features\n",
    "fu = FeatureUnion([\n",
    "        ('tf0', tf0),\n",
    "        ('tf1', tf1),\n",
    "        ('tf2', ColumnsSelect('Cont')) # feature 'Cont' could have been wrapped into its own pipeline,\n",
    "                                       # but no need to convolute as already in correct format\n",
    "    ], n_jobs= 1)\n",
    "\n",
    "#define a Classifier estimator; here one that is smarter as the average by growing additional trees\n",
    "skl_c0 = GrowingGBClassifier(ntrees_start = 100,\n",
    "            ntress_increment = 10,\n",
    "            est_params = {'max_depth': 3,\n",
    "                          'max_features': None}, #auto\n",
    "            scoring = 'log_loss', #binary_roc_auc\n",
    "            min_score_improvement = 1e-5,\n",
    "            nrounds_noimp = 2,\n",
    "            nrounds_stop = sys.maxsize,\n",
    "            cv_test_frac = 0.2, \n",
    "            cv_n_splits = 3)\n",
    "                      \n",
    "#as we are interested in the probabilities rather than the absolute binary classification use this shim\n",
    "skl_cc0 = OneProbClassifierWrapper(skl_c0, predictClass=1)\n",
    "\n",
    "# as OneProbClassifier (and GrowingGBClassifier) are using the sklearn interface, make them pandas compatible\n",
    "#cc0 = SklearnerWrapper(skl_cc0)\n",
    "cc0 = SKLEstimatorExtender(skl_cc0)\n",
    "\n",
    "#this is a complete pipeline, which uses all features except 'Device'\n",
    "pred_pipe = Pipeline([\n",
    "        (\"fu\",fu),\n",
    "        (\"cc0\", cc0)\n",
    "    ])\n",
    "\n",
    "#make a categorical fork for the feature Device, which has two levels\n",
    "cf = CategoryFork(pred_pipe,\n",
    "                  'Device',\n",
    "                  [('A'),('B')],\n",
    "                  n_jobs=1 )\n",
    "\n",
    "#define this by an alias\n",
    "main_pipe = cf"
   ]
  },
  {
   "cell_type": "code",
   "execution_count": 5,
   "metadata": {},
   "outputs": [],
   "source": [
    "logging.basicConfig(level=logging.INFO)"
   ]
  },
  {
   "cell_type": "code",
   "execution_count": 8,
   "metadata": {
    "scrolled": false
   },
   "outputs": [
    {
     "data": {
      "text/plain": [
       "<sklearnext.assembly.category_fork.CategoryFork at 0x7ff718a850d0>"
      ]
     },
     "execution_count": 8,
     "metadata": {},
     "output_type": "execute_result"
    }
   ],
   "source": [
    "#=============================\n",
    "# Train, Verify and Quantisize the model\n",
    "#=============================\n",
    "\n",
    "#--- train the pipeline\n",
    "main_pipe.fit(X_train, y_train)"
   ]
  },
  {
   "cell_type": "code",
   "execution_count": 9,
   "metadata": {},
   "outputs": [],
   "source": [
    "y_test_pred = main_pipe.predict(X_test)\n",
    "y_train_pred = main_pipe.predict(X_train)"
   ]
  },
  {
   "cell_type": "code",
   "execution_count": 10,
   "metadata": {},
   "outputs": [
    {
     "name": "stdout",
     "output_type": "stream",
     "text": [
      "Support :: train 2000  test 8000\n",
      "Coverage :: train 0.185500  test 0.177125\n",
      "RocAuc score :: train: 0.999960  test: 1.000000  diff: -3.971150e-05\n"
     ]
    },
    {
     "name": "stderr",
     "output_type": "stream",
     "text": [
      "/home/marcel/.local/lib/python2.7/site-packages/sklearn/metrics/ranking.py:104: DeprecationWarning: The 'reorder' parameter has been deprecated in version 0.20 and will be removed in 0.22. It is recommended not to set 'reorder' and ensure that x is monotonic increasing or monotonic decreasing.\n",
      "  DeprecationWarning)\n"
     ]
    },
    {
     "ename": "ValueError",
     "evalue": "x is neither increasing nor decreasing : [0.99731183 0.99730458 0.9972973  0.99728997 0.99726776 0.99726027\n 0.99725275 0.99724518 0.99723757 0.99717514 0.99716714 0.99715909\n 0.997151   0.99714286 0.99713467 0.99712644 1.         1.\n 1.         1.         1.         1.         1.         1.\n 1.         1.         1.         1.         1.         1.\n 1.         1.         1.         1.         1.         1.\n 1.         1.         1.         1.         1.         1.\n 1.         1.         1.         1.         1.         1.\n 1.         1.         1.         1.         1.         1.\n 1.         1.         1.         1.         1.         1.\n 1.         1.         1.         1.         1.         1.\n 1.         1.         1.         1.         1.         1.\n 1.         1.         1.         1.         1.         1.\n 1.         1.         1.         1.         1.         1.\n 1.         1.         1.         1.         1.         1.\n 1.         1.         1.         1.         1.         1.\n 1.         1.         1.         1.         1.         1.\n 1.         1.         1.         1.         1.         1.\n 1.         1.         1.         1.         1.         1.\n 1.         1.         1.         1.         1.         1.\n 1.        ].",
     "output_type": "error",
     "traceback": [
      "\u001b[0;31m---------------------------------------------------------------------------\u001b[0m",
      "\u001b[0;31mValueError\u001b[0m                                Traceback (most recent call last)",
      "\u001b[0;32m<ipython-input-10-b13224ac7fbc>\u001b[0m in \u001b[0;36m<module>\u001b[0;34m()\u001b[0m\n\u001b[1;32m      1\u001b[0m \u001b[0;31m#--- verify the model\u001b[0m\u001b[0;34m\u001b[0m\u001b[0;34m\u001b[0m\u001b[0m\n\u001b[1;32m      2\u001b[0m \u001b[0;32mfrom\u001b[0m \u001b[0msklearnext\u001b[0m\u001b[0;34m.\u001b[0m\u001b[0mmetric\u001b[0m\u001b[0;34m.\u001b[0m\u001b[0mcheck\u001b[0m \u001b[0;32mimport\u001b[0m \u001b[0;34m*\u001b[0m\u001b[0;34m\u001b[0m\u001b[0m\n\u001b[0;32m----> 3\u001b[0;31m \u001b[0mClassifierOvertrainCheck\u001b[0m\u001b[0;34m(\u001b[0m\u001b[0my_test\u001b[0m\u001b[0;34m,\u001b[0m \u001b[0my_test_pred\u001b[0m\u001b[0;34m,\u001b[0m \u001b[0my_train\u001b[0m\u001b[0;34m,\u001b[0m \u001b[0my_train_pred\u001b[0m\u001b[0;34m)\u001b[0m\u001b[0;34m\u001b[0m\u001b[0m\n\u001b[0m",
      "\u001b[0;32m/home/marcel/repo/github_mzoll/sklearnext/sklearnext/metric/check.py\u001b[0m in \u001b[0;36mClassifierOvertrainCheck\u001b[0;34m(y_train, y_train_pred_proba, y_test, y_test_pred_proba)\u001b[0m\n\u001b[1;32m     37\u001b[0m     \u001b[0;32mprint\u001b[0m\u001b[0;34m(\u001b[0m\u001b[0;34m\"RocAuc score :: train: %f  test: %f  diff: %e\"\u001b[0m \u001b[0;34m%\u001b[0m \u001b[0;34m(\u001b[0m\u001b[0mscore_train\u001b[0m\u001b[0;34m,\u001b[0m \u001b[0mscore_test\u001b[0m\u001b[0;34m,\u001b[0m \u001b[0mscore_train\u001b[0m\u001b[0;34m-\u001b[0m\u001b[0mscore_test\u001b[0m\u001b[0;34m)\u001b[0m\u001b[0;34m)\u001b[0m\u001b[0;34m\u001b[0m\u001b[0m\n\u001b[1;32m     38\u001b[0m     \u001b[0;31m#--- PrcAuc\u001b[0m\u001b[0;34m\u001b[0m\u001b[0;34m\u001b[0m\u001b[0m\n\u001b[0;32m---> 39\u001b[0;31m     \u001b[0mscore_train\u001b[0m \u001b[0;34m=\u001b[0m \u001b[0mPrcAucScore\u001b[0m\u001b[0;34m(\u001b[0m\u001b[0my_train\u001b[0m\u001b[0;34m,\u001b[0m \u001b[0my_train_pred_proba\u001b[0m\u001b[0;34m)\u001b[0m\u001b[0;34m\u001b[0m\u001b[0m\n\u001b[0m\u001b[1;32m     40\u001b[0m     \u001b[0mscore_test\u001b[0m \u001b[0;34m=\u001b[0m \u001b[0mPrcAucScore\u001b[0m\u001b[0;34m(\u001b[0m\u001b[0my_test\u001b[0m\u001b[0;34m,\u001b[0m \u001b[0my_test_pred_proba\u001b[0m\u001b[0;34m)\u001b[0m\u001b[0;34m\u001b[0m\u001b[0m\n\u001b[1;32m     41\u001b[0m     \u001b[0;32mprint\u001b[0m\u001b[0;34m(\u001b[0m\u001b[0;34m\"PrcAuc score :: train: %f  test: %f  diff: %e\"\u001b[0m \u001b[0;34m%\u001b[0m \u001b[0;34m(\u001b[0m\u001b[0mscore_train\u001b[0m\u001b[0;34m,\u001b[0m \u001b[0mscore_test\u001b[0m\u001b[0;34m,\u001b[0m \u001b[0mscore_train\u001b[0m\u001b[0;34m-\u001b[0m\u001b[0mscore_test\u001b[0m\u001b[0;34m)\u001b[0m\u001b[0;34m)\u001b[0m\u001b[0;34m\u001b[0m\u001b[0m\n",
      "\u001b[0;32m/home/marcel/repo/github_mzoll/sklearnext/sklearnext/metric/check.py\u001b[0m in \u001b[0;36mPrcAucScore\u001b[0;34m(y_true, y_pred_proba)\u001b[0m\n\u001b[1;32m     24\u001b[0m \u001b[0;32mdef\u001b[0m \u001b[0mPrcAucScore\u001b[0m\u001b[0;34m(\u001b[0m\u001b[0my_true\u001b[0m\u001b[0;34m,\u001b[0m \u001b[0my_pred_proba\u001b[0m\u001b[0;34m)\u001b[0m\u001b[0;34m:\u001b[0m\u001b[0;34m\u001b[0m\u001b[0m\n\u001b[1;32m     25\u001b[0m     \u001b[0mprecision\u001b[0m\u001b[0;34m,\u001b[0m \u001b[0mrecall\u001b[0m\u001b[0;34m,\u001b[0m \u001b[0m_\u001b[0m \u001b[0;34m=\u001b[0m \u001b[0mprecision_recall_curve\u001b[0m\u001b[0;34m(\u001b[0m\u001b[0my_true\u001b[0m\u001b[0;34m,\u001b[0m \u001b[0my_pred_proba\u001b[0m\u001b[0;34m)\u001b[0m\u001b[0;34m\u001b[0m\u001b[0m\n\u001b[0;32m---> 26\u001b[0;31m     \u001b[0;32mreturn\u001b[0m \u001b[0mauc\u001b[0m\u001b[0;34m(\u001b[0m\u001b[0mprecision\u001b[0m\u001b[0;34m,\u001b[0m \u001b[0mrecall\u001b[0m\u001b[0;34m,\u001b[0m \u001b[0;36m1\u001b[0m\u001b[0;34m)\u001b[0m\u001b[0;34m\u001b[0m\u001b[0m\n\u001b[0m\u001b[1;32m     27\u001b[0m \u001b[0;34m\u001b[0m\u001b[0m\n\u001b[1;32m     28\u001b[0m \u001b[0;34m\u001b[0m\u001b[0m\n",
      "\u001b[0;32m/home/marcel/.local/lib/python2.7/site-packages/sklearn/metrics/ranking.pyc\u001b[0m in \u001b[0;36mauc\u001b[0;34m(x, y, reorder)\u001b[0m\n\u001b[1;32m    117\u001b[0m             \u001b[0;32melse\u001b[0m\u001b[0;34m:\u001b[0m\u001b[0;34m\u001b[0m\u001b[0m\n\u001b[1;32m    118\u001b[0m                 raise ValueError(\"x is neither increasing nor decreasing \"\n\u001b[0;32m--> 119\u001b[0;31m                                  \": {}.\".format(x))\n\u001b[0m\u001b[1;32m    120\u001b[0m \u001b[0;34m\u001b[0m\u001b[0m\n\u001b[1;32m    121\u001b[0m     \u001b[0marea\u001b[0m \u001b[0;34m=\u001b[0m \u001b[0mdirection\u001b[0m \u001b[0;34m*\u001b[0m \u001b[0mnp\u001b[0m\u001b[0;34m.\u001b[0m\u001b[0mtrapz\u001b[0m\u001b[0;34m(\u001b[0m\u001b[0my\u001b[0m\u001b[0;34m,\u001b[0m \u001b[0mx\u001b[0m\u001b[0;34m)\u001b[0m\u001b[0;34m\u001b[0m\u001b[0m\n",
      "\u001b[0;31mValueError\u001b[0m: x is neither increasing nor decreasing : [0.99731183 0.99730458 0.9972973  0.99728997 0.99726776 0.99726027\n 0.99725275 0.99724518 0.99723757 0.99717514 0.99716714 0.99715909\n 0.997151   0.99714286 0.99713467 0.99712644 1.         1.\n 1.         1.         1.         1.         1.         1.\n 1.         1.         1.         1.         1.         1.\n 1.         1.         1.         1.         1.         1.\n 1.         1.         1.         1.         1.         1.\n 1.         1.         1.         1.         1.         1.\n 1.         1.         1.         1.         1.         1.\n 1.         1.         1.         1.         1.         1.\n 1.         1.         1.         1.         1.         1.\n 1.         1.         1.         1.         1.         1.\n 1.         1.         1.         1.         1.         1.\n 1.         1.         1.         1.         1.         1.\n 1.         1.         1.         1.         1.         1.\n 1.         1.         1.         1.         1.         1.\n 1.         1.         1.         1.         1.         1.\n 1.         1.         1.         1.         1.         1.\n 1.         1.         1.         1.         1.         1.\n 1.         1.         1.         1.         1.         1.\n 1.        ]."
     ]
    }
   ],
   "source": [
    "#--- verify the model\n",
    "from sklearnext.metric.check import *\n",
    "ClassifierOvertrainCheck(y_test, y_test_pred, y_train, y_train_pred)"
   ]
  },
  {
   "cell_type": "code",
   "execution_count": 11,
   "metadata": {},
   "outputs": [
    {
     "ename": "ImportError",
     "evalue": "No module named matplotlib",
     "output_type": "error",
     "traceback": [
      "\u001b[0;31m---------------------------------------------------------------------------\u001b[0m",
      "\u001b[0;31mImportError\u001b[0m                               Traceback (most recent call last)",
      "\u001b[0;32m<ipython-input-11-1f2a532e1985>\u001b[0m in \u001b[0;36m<module>\u001b[0;34m()\u001b[0m\n\u001b[0;32m----> 1\u001b[0;31m \u001b[0;32mfrom\u001b[0m \u001b[0msklearnext\u001b[0m\u001b[0;34m.\u001b[0m\u001b[0mmetric\u001b[0m\u001b[0;34m.\u001b[0m\u001b[0mcurves\u001b[0m \u001b[0;32mimport\u001b[0m \u001b[0mplot_BinaryRocCurve\u001b[0m\u001b[0;34m\u001b[0m\u001b[0m\n\u001b[0m\u001b[1;32m      2\u001b[0m \u001b[0mplot_BinaryRocCurve\u001b[0m\u001b[0;34m(\u001b[0m\u001b[0my_test\u001b[0m\u001b[0;34m,\u001b[0m \u001b[0my_test_pred\u001b[0m\u001b[0;34m)\u001b[0m\u001b[0;34m\u001b[0m\u001b[0m\n",
      "\u001b[0;32m/home/marcel/repo/github_mzoll/sklearnext/sklearnext/metric/curves.py\u001b[0m in \u001b[0;36m<module>\u001b[0;34m()\u001b[0m\n\u001b[1;32m      9\u001b[0m \u001b[0;32mimport\u001b[0m \u001b[0mnumpy\u001b[0m \u001b[0;32mas\u001b[0m \u001b[0mnp\u001b[0m\u001b[0;34m\u001b[0m\u001b[0m\n\u001b[1;32m     10\u001b[0m \u001b[0;34m\u001b[0m\u001b[0m\n\u001b[0;32m---> 11\u001b[0;31m \u001b[0;32mimport\u001b[0m \u001b[0mmatplotlib\u001b[0m\u001b[0;34m\u001b[0m\u001b[0m\n\u001b[0m\u001b[1;32m     12\u001b[0m \u001b[0;31m#import matplotlib.mlab as mlab\u001b[0m\u001b[0;34m\u001b[0m\u001b[0;34m\u001b[0m\u001b[0m\n\u001b[1;32m     13\u001b[0m \u001b[0;32mimport\u001b[0m \u001b[0mmatplotlib\u001b[0m\u001b[0;34m.\u001b[0m\u001b[0mpyplot\u001b[0m \u001b[0;32mas\u001b[0m \u001b[0mplt\u001b[0m\u001b[0;34m\u001b[0m\u001b[0m\n",
      "\u001b[0;31mImportError\u001b[0m: No module named matplotlib"
     ]
    }
   ],
   "source": [
    "from sklearnext.metric.curves import plot_BinaryRocCurve\n",
    "plot_BinaryRocCurve(y_test, y_test_pred)"
   ]
  },
  {
   "cell_type": "code",
   "execution_count": 12,
   "metadata": {},
   "outputs": [
    {
     "name": "stdout",
     "output_type": "stream",
     "text": [
      "[('tf0__Label_c', [0.0416687359723032, 0.13523463306358213]), ('tf1__Time_hour', [0.7646683276216762, 0.20322760207353818]), ('tf2__Cont', [0.13859633158440188, 0.43245431230872367]), ('tf1__Time_day', [0.028121541708555346, 0.10370006955608298]), ('tf0__Label_b', [0.0015807106035144024, 0.0023700379123333887]), ('tf0__Label_a', [0.02536435250954891, 0.1230133450857397])]\n",
      "[('tf0__Label_c', 0.0), ('tf1__Time_hour', 0.0), ('tf2__Cont', 0.0), ('tf1__Time_day', 0.0), ('tf0__Label_b', 0.0), ('tf0__Label_a', 0.0)]\n"
     ]
    }
   ],
   "source": [
    "#--- have a look at the most important features for each pipeline\n",
    "fi_deep = cf.get_feature_importances_deep()\n",
    "print(fi_deep)\n",
    "\n",
    "fi = cf.get_feature_importances()\n",
    "print(fi)"
   ]
  },
  {
   "cell_type": "code",
   "execution_count": 16,
   "metadata": {},
   "outputs": [
    {
     "ename": "ImportError",
     "evalue": "No module named matplotlib",
     "output_type": "error",
     "traceback": [
      "\u001b[0;31m---------------------------------------------------------------------------\u001b[0m",
      "\u001b[0;31mImportError\u001b[0m                               Traceback (most recent call last)",
      "\u001b[0;32m<ipython-input-16-0484cd13f94d>\u001b[0m in \u001b[0;36m<module>\u001b[0;34m()\u001b[0m\n\u001b[0;32m----> 1\u001b[0;31m \u001b[0;32mimport\u001b[0m \u001b[0mmatplotlib\u001b[0m\u001b[0;34m\u001b[0m\u001b[0m\n\u001b[0m",
      "\u001b[0;31mImportError\u001b[0m: No module named matplotlib"
     ]
    }
   ],
   "source": [
    "import matplotlib"
   ]
  },
  {
   "cell_type": "code",
   "execution_count": 13,
   "metadata": {},
   "outputs": [
    {
     "ename": "ImportError",
     "evalue": "No module named matplotlib",
     "output_type": "error",
     "traceback": [
      "\u001b[0;31m---------------------------------------------------------------------------\u001b[0m",
      "\u001b[0;31mImportError\u001b[0m                               Traceback (most recent call last)",
      "\u001b[0;32m<ipython-input-13-9d3b210053c5>\u001b[0m in \u001b[0;36m<module>\u001b[0;34m()\u001b[0m\n\u001b[1;32m      1\u001b[0m \u001b[0;31m#--- plot the feature importances\u001b[0m\u001b[0;34m\u001b[0m\u001b[0;34m\u001b[0m\u001b[0m\n\u001b[0;32m----> 2\u001b[0;31m \u001b[0;32mfrom\u001b[0m \u001b[0msklearnext\u001b[0m\u001b[0;34m.\u001b[0m\u001b[0mvisualization\u001b[0m\u001b[0;34m.\u001b[0m\u001b[0mviz\u001b[0m \u001b[0;32mimport\u001b[0m \u001b[0;34m*\u001b[0m\u001b[0;34m\u001b[0m\u001b[0m\n\u001b[0m\u001b[1;32m      3\u001b[0m \u001b[0mplot_FeatureImportances\u001b[0m\u001b[0;34m(\u001b[0m\u001b[0mmain_pipe\u001b[0m\u001b[0;34m)\u001b[0m\u001b[0;34m\u001b[0m\u001b[0m\n",
      "\u001b[0;32m/home/marcel/repo/github_mzoll/sklearnext/sklearnext/visualization/viz.py\u001b[0m in \u001b[0;36m<module>\u001b[0;34m()\u001b[0m\n\u001b[1;32m      9\u001b[0m \u001b[0;32mimport\u001b[0m \u001b[0mnumpy\u001b[0m \u001b[0;32mas\u001b[0m \u001b[0mnp\u001b[0m\u001b[0;34m\u001b[0m\u001b[0m\n\u001b[1;32m     10\u001b[0m \u001b[0;34m\u001b[0m\u001b[0m\n\u001b[0;32m---> 11\u001b[0;31m \u001b[0;32mimport\u001b[0m \u001b[0mmatplotlib\u001b[0m\u001b[0;34m\u001b[0m\u001b[0m\n\u001b[0m\u001b[1;32m     12\u001b[0m \u001b[0;31m#import matplotlib.mlab as mlab\u001b[0m\u001b[0;34m\u001b[0m\u001b[0;34m\u001b[0m\u001b[0m\n\u001b[1;32m     13\u001b[0m \u001b[0;32mimport\u001b[0m \u001b[0mmatplotlib\u001b[0m\u001b[0;34m.\u001b[0m\u001b[0mpyplot\u001b[0m \u001b[0;32mas\u001b[0m \u001b[0mplt\u001b[0m\u001b[0;34m\u001b[0m\u001b[0m\n",
      "\u001b[0;31mImportError\u001b[0m: No module named matplotlib"
     ]
    }
   ],
   "source": [
    "#--- plot the feature importances\n",
    "from sklearnext.visualization.viz import *\n",
    "plot_FeatureImportances(main_pipe)"
   ]
  },
  {
   "cell_type": "code",
   "execution_count": 14,
   "metadata": {},
   "outputs": [
    {
     "ename": "ImportError",
     "evalue": "No module named matplotlib",
     "output_type": "error",
     "traceback": [
      "\u001b[0;31m---------------------------------------------------------------------------\u001b[0m",
      "\u001b[0;31mImportError\u001b[0m                               Traceback (most recent call last)",
      "\u001b[0;32m<ipython-input-14-ef9839f8f20b>\u001b[0m in \u001b[0;36m<module>\u001b[0;34m()\u001b[0m\n\u001b[0;32m----> 1\u001b[0;31m \u001b[0;32mfrom\u001b[0m \u001b[0msklearnext\u001b[0m\u001b[0;34m.\u001b[0m\u001b[0massembly\u001b[0m\u001b[0;34m.\u001b[0m\u001b[0mviz\u001b[0m\u001b[0;34m.\u001b[0m\u001b[0mcategory_fork\u001b[0m \u001b[0;32mimport\u001b[0m \u001b[0;34m*\u001b[0m\u001b[0;34m\u001b[0m\u001b[0m\n\u001b[0m\u001b[1;32m      2\u001b[0m \u001b[0mplot_CategoryFork_FeatureImportances\u001b[0m\u001b[0;34m(\u001b[0m\u001b[0mmain_pipe\u001b[0m\u001b[0;34m,\u001b[0m \u001b[0mcoverage_weighted\u001b[0m\u001b[0;34m=\u001b[0m\u001b[0mTrue\u001b[0m\u001b[0;34m)\u001b[0m\u001b[0;34m\u001b[0m\u001b[0m\n",
      "\u001b[0;32m/home/marcel/repo/github_mzoll/sklearnext/sklearnext/assembly/viz/category_fork.py\u001b[0m in \u001b[0;36m<module>\u001b[0;34m()\u001b[0m\n\u001b[1;32m     10\u001b[0m \u001b[0;32mimport\u001b[0m \u001b[0mnumpy\u001b[0m \u001b[0;32mas\u001b[0m \u001b[0mnp\u001b[0m\u001b[0;34m\u001b[0m\u001b[0m\n\u001b[1;32m     11\u001b[0m \u001b[0;34m\u001b[0m\u001b[0m\n\u001b[0;32m---> 12\u001b[0;31m \u001b[0;32mimport\u001b[0m \u001b[0mmatplotlib\u001b[0m\u001b[0;34m\u001b[0m\u001b[0m\n\u001b[0m\u001b[1;32m     13\u001b[0m \u001b[0;31m#import matplotlib.mlab as mlab\u001b[0m\u001b[0;34m\u001b[0m\u001b[0;34m\u001b[0m\u001b[0m\n\u001b[1;32m     14\u001b[0m \u001b[0;32mimport\u001b[0m \u001b[0mmatplotlib\u001b[0m\u001b[0;34m.\u001b[0m\u001b[0mpyplot\u001b[0m \u001b[0;32mas\u001b[0m \u001b[0mplt\u001b[0m\u001b[0;34m\u001b[0m\u001b[0m\n",
      "\u001b[0;31mImportError\u001b[0m: No module named matplotlib"
     ]
    }
   ],
   "source": [
    "from sklearnext.assembly.viz.category_fork import *\n",
    "plot_CategoryFork_FeatureImportances(main_pipe, coverage_weighted=True)"
   ]
  },
  {
   "cell_type": "code",
   "execution_count": 15,
   "metadata": {},
   "outputs": [
    {
     "ename": "NameError",
     "evalue": "name 'plot_CategoryFork_FeatureImportances' is not defined",
     "output_type": "error",
     "traceback": [
      "\u001b[0;31m---------------------------------------------------------------------------\u001b[0m",
      "\u001b[0;31mNameError\u001b[0m                                 Traceback (most recent call last)",
      "\u001b[0;32m<ipython-input-15-d2cedf73f958>\u001b[0m in \u001b[0;36m<module>\u001b[0;34m()\u001b[0m\n\u001b[0;32m----> 1\u001b[0;31m \u001b[0mplot_CategoryFork_FeatureImportances\u001b[0m\u001b[0;34m(\u001b[0m\u001b[0mmain_pipe\u001b[0m\u001b[0;34m,\u001b[0m \u001b[0mcoverage_weighted\u001b[0m\u001b[0;34m=\u001b[0m\u001b[0mFalse\u001b[0m\u001b[0;34m)\u001b[0m\u001b[0;34m\u001b[0m\u001b[0m\n\u001b[0m",
      "\u001b[0;31mNameError\u001b[0m: name 'plot_CategoryFork_FeatureImportances' is not defined"
     ]
    }
   ],
   "source": [
    "plot_CategoryFork_FeatureImportances(main_pipe, coverage_weighted=False)"
   ]
  },
  {
   "cell_type": "code",
   "execution_count": 17,
   "metadata": {},
   "outputs": [
    {
     "data": {
      "image/png": "[encoded data removed]",
      "text/plain": [
       "<Figure size 432x288 with 1 Axes>"
      ]
     },
     "execution_count": 17,
     "metadata": {},
     "output_type": "execute_result"
    },
    {
     "data": {
      "image/png": "[encoded data removed]",
      "text/plain": [
       "<Figure size 432x288 with 1 Axes>"
      ]
     },
     "metadata": {
      "needs_background": "light"
     },
     "output_type": "display_data"
    }
   ],
   "source": [
    "plot_CategoryFork_prediction(main_pipe, X_test)"
   ]
  },
  {
   "cell_type": "code",
   "execution_count": 18,
   "metadata": {},
   "outputs": [
    {
     "data": {
      "image/png": "[encoded data removed]",
      "text/plain": [
       "<Figure size 1600x80 with 2 Axes>"
      ]
     },
     "execution_count": 18,
     "metadata": {},
     "output_type": "execute_result"
    },
    {
     "data": {
      "image/png": "[encoded data removed]",
      "text/plain": [
       "<Figure size 1600x80 with 2 Axes>"
      ]
     },
     "metadata": {
      "needs_background": "light"
     },
     "output_type": "display_data"
    }
   ],
   "source": [
    "plot_BinaryOutcomeDist(X, y, 'Label', sys.maxsize)"
   ]
  },
  {
   "cell_type": "code",
   "execution_count": null,
   "metadata": {},
   "outputs": [],
   "source": []
  }
 ],
 "metadata": {
  "kernelspec": {
   "display_name": "Python 2",
   "language": "python",
   "name": "python2"
  },
  "language_info": {
   "codemirror_mode": {
    "name": "ipython",
    "version": 2
   },
   "file_extension": ".py",
   "mimetype": "text/x-python",
   "name": "python",
   "nbconvert_exporter": "python",
   "pygments_lexer": "ipython2",
   "version": "2.7.14"
  }
 },
 "nbformat": 4,
 "nbformat_minor": 2
}
