{
 "cells": [
  {
   "cell_type": "code",
   "execution_count": 1,
   "metadata": {
    "collapsed": true
   },
   "outputs": [],
   "source": [
    "import sys, os, pathlib\n",
    "sys.path.insert(0, str(pathlib.Path(os.getcwd()).parents[1] / 'python'))"
   ]
  },
  {
   "cell_type": "code",
   "execution_count": 2,
   "metadata": {
    "collapsed": true
   },
   "outputs": [],
   "source": [
    "#some basic imports\n",
    "import sys, os, copy\n",
    "import numpy as np\n",
    "import datetime as dt\n",
    "import pandas as pd"
   ]
  },
  {
   "cell_type": "code",
   "execution_count": 3,
   "metadata": {
    "scrolled": true
   },
   "outputs": [
    {
     "name": "stdout",
     "output_type": "stream",
     "text": [
      "(10000, 4) Index(['Cont', 'Device', 'Label', 'Time'], dtype='object')\n"
     ]
    }
   ],
   "source": [
    "# construct a dataset with some observations and all kind of mixed lables\n",
    "nObs = 10000\n",
    "\n",
    "idx = np.array(list(range(nObs))) + 1000\n",
    "c0 = np.array(np.random.choice(['A','B'], size=int(nObs*0.8)).tolist() + ['A']*int(nObs*0.2) )\n",
    "\n",
    "c1_h = np.random.choice([12,13,14], size=nObs)\n",
    "c1_d = np.random.choice([0,1], size=nObs)\n",
    "c1_s = np.random.randint(60, size=nObs)\n",
    "\n",
    "c1 = []\n",
    "for i in range(nObs):\n",
    "    c1.append( dt.datetime(2017,1,1,0,0,0) + dt.timedelta(days=int(c1_d[i]), hours=int(c1_h[i]), minutes=int(c1_s[i])) )\n",
    "\n",
    "c2 = np.random.choice(['a','b','c'], size=nObs)\n",
    "c3 = np.round(np.random.rand(nObs), 2)\n",
    "\n",
    "X = pd.DataFrame({'Device': c0,\n",
    "             'Time': c1,\n",
    "             'Label':c2,\n",
    "             'Cont':c3}, index = idx)\n",
    "\n",
    "print(X.shape, X.columns)"
   ]
  },
  {
   "cell_type": "code",
   "execution_count": 4,
   "metadata": {},
   "outputs": [
    {
     "name": "stdout",
     "output_type": "stream",
     "text": [
      "(10000,) coverage 0.174400\n"
     ]
    }
   ],
   "source": [
    "class xthelper():\n",
    "    j = 0\n",
    "    def __int__(self):\n",
    "        pass\n",
    "    def __call__(self, row):\n",
    "        dev_dict = {'A':0.3, 'B':0.8}\n",
    "        label_dict = {'a':0.8, 'b':0.6, 'c':0.7}\n",
    "        prob =  ( 0.5 + 0.1*c1_d[self.j] - (c1_h[self.j]-12)*0.5 ) * label_dict[row['Label']] + (row['Cont']-0.5)/4\n",
    "        prob = max(min(1.,prob), 0.)\n",
    "\n",
    "        self.j+=1\n",
    "        if row['Device'] == 'A':\n",
    "            return int(prob>0.3)\n",
    "        else:\n",
    "            return int(prob>0.5)\n",
    "    \n",
    "y= X.apply(xthelper(), axis=1)\n",
    "\n",
    "print(y.shape, \"coverage %f\" % (np.sum(y)/y.shape[0]))"
   ]
  },
  {
   "cell_type": "code",
   "execution_count": 5,
   "metadata": {},
   "outputs": [
    {
     "name": "stdout",
     "output_type": "stream",
     "text": [
      "(8000, 4) (8000,) (2000, 4) (2000,)\n"
     ]
    }
   ],
   "source": [
    "#split up dataset into train and (held out)test sample\n",
    "from sklearn.model_selection import train_test_split\n",
    "X_train, X_test, y_train, y_test = train_test_split(X, y, test_size=.2, random_state=0)\n",
    "\n",
    "print(X_train.shape, y_train.shape, X_test.shape, y_test.shape)"
   ]
  },
  {
   "cell_type": "code",
   "execution_count": 6,
   "metadata": {
    "collapsed": true
   },
   "outputs": [],
   "source": [
    "#==== PIPELINE ASSEMBLY\n",
    "from Learning.Assembly import *\n",
    "from Learning.GBDTreeLearner import GrowingGBClassifier\n",
    "from Learning.GeneralTransformers import *"
   ]
  },
  {
   "cell_type": "code",
   "execution_count": 7,
   "metadata": {
    "collapsed": true
   },
   "outputs": [],
   "source": [
    "#assemble the pipeline by bits an pieces\n",
    "\n",
    "#OneHot/Label encoding for feature 'Label'\n",
    "tf0 = TransformerPipe([\n",
    "        ('pagehistExtr', ColumnsSelect(['Label'])),\n",
    "        ('labelEnc', LabelDummyTransformer())\n",
    "    ])\n",
    "\n",
    "#Extraction of Hour and Day-of-Month fromfeature  'Time'\n",
    "tf1 = TransformerPipe([\n",
    "        ('starttimeExtr', ColumnsSelect('Time')),\n",
    "        ('hwdmyExtr', HourWeekdayDayMonthYearTransformer()),\n",
    "        ('hwdselect', ColumnsSelect(['Time_hour', 'Time_day']))\n",
    "    ])\n",
    "\n",
    "#assemble a set of to use features\n",
    "fu = FeatureUnion([\n",
    "        ('tf0', tf0),\n",
    "        ('tf1', tf1),\n",
    "        ('tf2', ColumnsSelect('Cont')) # feature 'Cont' could have been wrapped into its own pipeline,\n",
    "                                       # but no need to convolute as already in correct format\n",
    "    ], n_jobs= 1)\n",
    "\n",
    "#define a Classifier estimator; here one that is smarter as the average by growing additional trees\n",
    "c0 = GrowingGBClassifier(ntrees_start = 100,\n",
    "            ntress_increment = 10,\n",
    "            est_params = {'max_depth': 3,\n",
    "                          'max_features': None}, #auto\n",
    "            scoring = 'log_loss',\n",
    "            min_score_improvement = 1e-5,\n",
    "            nrounds_noimp = 2,\n",
    "            nrounds_stop = sys.maxsize,\n",
    "            cv_test_frac = 0.2, \n",
    "            cv_n_splits = 3)\n",
    "\n",
    "#as we are interested in the probabilities rather than the absolute binary calssification wrap it down once\n",
    "cc0 = OneProbClassifierWrapper(c0, predictClass=1)\n",
    "\n",
    "#this is already a complete pipeline, which uses all features except 'Device'\n",
    "pred_pipe = Pipeline([\n",
    "        (\"fu\",fu),\n",
    "        (\"cc0\", cc0)\n",
    "    ])"
   ]
  },
  {
   "cell_type": "code",
   "execution_count": 8,
   "metadata": {
    "collapsed": true
   },
   "outputs": [],
   "source": [
    "#OneHot/Label encoding for feature 'Label'"
   ]
  },
  {
   "cell_type": "code",
   "execution_count": 9,
   "metadata": {
    "collapsed": true
   },
   "outputs": [],
   "source": [
    "cf = CategoryFork(pred_pipe,\n",
    "                  'Device',\n",
    "                  [('A'),('B')],\n",
    "                  n_jobs=1 )\n",
    "\n",
    "main_pipe = cf"
   ]
  },
  {
   "cell_type": "code",
   "execution_count": 10,
   "metadata": {},
   "outputs": [
    {
     "name": "stdout",
     "output_type": "stream",
     "text": [
      "resetting estimator to null-state\n",
      "call from <Learning.GBDTreeLearner.GrowingGBClassifier object at 0x000002241B35A5C0>\n",
      "round n_est meter\n",
      "0 100 -0.009381\n",
      "1 110 -0.007752\n",
      "2 120 -0.006301\n",
      "3 130 -0.005176\n",
      "4 140 -0.004271\n",
      "5 150 -0.003431\n",
      "6 160 -0.002781\n",
      "7 170 -0.002279\n",
      "8 180 -0.001837\n",
      "9 190 -0.001512\n",
      "10 200 -0.001286\n",
      "11 210 -0.001070\n",
      "12 220 -0.000854\n",
      "13 230 -0.000670\n",
      "14 240 -0.000546\n",
      "15 250 -0.000439\n",
      "16 260 -0.000359\n",
      "17 270 -0.000288\n",
      "18 280 -0.000230\n",
      "19 290 -0.000195\n",
      "20 300 -0.000157\n",
      "21 310 -0.000137\n",
      "22 320 -0.000125\n",
      "23 330 -0.000119\n",
      "24 340 -0.000119\n",
      "no improvement for 2 rounds\n",
      "With 320 estimators:: TrainScore(cv-test): -0.000125 , TrainScore(all): -0.000089\n",
      "resetting estimator to null-state\n",
      "call from <Learning.GBDTreeLearner.GrowingGBClassifier object at 0x000002241B35AF98>\n",
      "round n_est meter\n",
      "0 100 -0.002584\n",
      "1 110 -0.001936\n",
      "2 120 -0.001431\n",
      "3 130 -0.001127\n",
      "4 140 -0.000886\n",
      "5 150 -0.000685\n",
      "6 160 -0.000524\n",
      "7 170 -0.000412\n",
      "8 180 -0.000315\n",
      "9 190 -0.000245\n",
      "10 200 -0.000195\n",
      "11 210 -0.000153\n",
      "12 220 -0.000135\n",
      "13 230 -0.000125\n",
      "14 240 -0.000125\n",
      "no improvement for 2 rounds\n",
      "With 220 estimators:: TrainScore(cv-test): -0.000135 , TrainScore(all): -0.000072\n"
     ]
    },
    {
     "data": {
      "text/plain": [
       "<Learning.Assembly.CategoryFork at 0x2241b35a278>"
      ]
     },
     "execution_count": 10,
     "metadata": {},
     "output_type": "execute_result"
    }
   ],
   "source": [
    "#train the pipeline\n",
    "main_pipe.fit(X_train, y_train)"
   ]
  },
  {
   "cell_type": "code",
   "execution_count": 11,
   "metadata": {},
   "outputs": [
    {
     "data": {
      "text/plain": [
       "8.1884363252943598e-05"
      ]
     },
     "execution_count": 11,
     "metadata": {},
     "output_type": "execute_result"
    }
   ],
   "source": [
    "# predict and verify the training by itself:\n",
    "#this score is a combination of the training scores in each subpipeline in cf\n",
    "y_train_pred = main_pipe.predict(X_train)\n",
    "from sklearn.metrics import log_loss\n",
    "log_loss(y_train, y_train_pred)"
   ]
  },
  {
   "cell_type": "code",
   "execution_count": 12,
   "metadata": {},
   "outputs": [
    {
     "data": {
      "text/plain": [
       "0.0067202209021746994"
      ]
     },
     "execution_count": 12,
     "metadata": {},
     "output_type": "execute_result"
    }
   ],
   "source": [
    "#measure performance on the held out data set\n",
    "y_test_pred = main_pipe.predict(X_test)\n",
    "from sklearn.metrics import log_loss\n",
    "log_loss(y_test, y_test_pred)"
   ]
  },
  {
   "cell_type": "code",
   "execution_count": 13,
   "metadata": {},
   "outputs": [
    {
     "name": "stdout",
     "output_type": "stream",
     "text": [
      "RocAuc score :: train: 1.000000  test: 0.999818  diff: 1.820236e-04\n",
      "LogLoss :: train: 0.000082  test: 0.006720  diff: -6.638337e-03\n",
      "Adapted LogLoss :: train: -0.460920  test: -0.463154  diff: 2.233150e-03\n"
     ]
    }
   ],
   "source": [
    "from Learning.Metric import *\n",
    "ClassifierOvertrainCheck(main_pipe, X_train, y_train, X_test, y_test)"
   ]
  },
  {
   "cell_type": "code",
   "execution_count": 14,
   "metadata": {},
   "outputs": [
    {
     "data": {
      "text/plain": [
       "8.8724904255163409e-05"
      ]
     },
     "execution_count": 14,
     "metadata": {},
     "output_type": "execute_result"
    }
   ],
   "source": [
    "#look into the category fork and have a re-analysis of the Device=='A' and =='B' predictions individually\n",
    "idx_train_isA = X_train['Device']=='A'\n",
    "Xp0_train = X_train.loc[ idx_train_isA ]\n",
    "yp0_train = y_train.loc[ idx_train_isA ]\n",
    "\n",
    "yp0_train_pred = cf.pipeline_list_[0].predict(Xp0_train)\n",
    "log_loss(yp0_train, yp0_train_pred)"
   ]
  },
  {
   "cell_type": "code",
   "execution_count": 16,
   "metadata": {},
   "outputs": [
    {
     "data": {
      "text/plain": [
       "7.1756120373687969e-05"
      ]
     },
     "execution_count": 16,
     "metadata": {},
     "output_type": "execute_result"
    }
   ],
   "source": [
    "idx_train_isB = X_train['Device']=='B'\n",
    "Xp1_train = X_train.loc[ idx_train_isB ]\n",
    "yp1_train = y_train.loc[ idx_train_isB ]\n",
    "\n",
    "yp1_train_pred = cf.pipeline_list_[1].predict(Xp1_train)\n",
    "log_loss(yp1_train, yp1_train_pred)"
   ]
  },
  {
   "cell_type": "code",
   "execution_count": 17,
   "metadata": {},
   "outputs": [
    {
     "data": {
      "text/plain": [
       "[('tf1__Time_hour', [0.36086802420807035, 0.42172933791702549]),\n",
       " ('tf0__Label_b', [0.054021183389564201, 0.045359401390296337]),\n",
       " ('tf1__Time_day', [0.11708919909126662, 0.10949841285235638]),\n",
       " ('tf0__Label_c', [0.11023584437471515, 0.015599217078014557]),\n",
       " ('tf0__Label_a', [0.054999398482590819, 0.066180809676820662]),\n",
       " ('tf2__Cont', [0.25591135045379265, 0.31890554835821411])]"
      ]
     },
     "execution_count": 17,
     "metadata": {},
     "output_type": "execute_result"
    }
   ],
   "source": [
    "#have a look at the most important features for each pipeline\n",
    "fi_deep = cf.get_feature_importances_deep()\n",
    "fi_deep"
   ]
  },
  {
   "cell_type": "code",
   "execution_count": 18,
   "metadata": {},
   "outputs": [
    {
     "data": {
      "text/plain": [
       "[('tf1__Time_hour', 0.38540274129699292),\n",
       " ('tf0__Label_b', 0.050529402521109344),\n",
       " ('tf1__Time_day', 0.11402916338870595),\n",
       " ('tf0__Label_c', 0.072085453995732726),\n",
       " ('tf0__Label_a', 0.059506904870264721),\n",
       " ('tf2__Cont', 0.28130588648401256)]"
      ]
     },
     "execution_count": 18,
     "metadata": {},
     "output_type": "execute_result"
    }
   ],
   "source": [
    "fi = cf.get_feature_importances()\n",
    "fi"
   ]
  },
  {
   "cell_type": "code",
   "execution_count": 19,
   "metadata": {},
   "outputs": [
    {
     "data": {
      "image/png": "[encoded data removed]",
      "text/plain": [
       "<matplotlib.figure.Figure at 0x2241be61e10>"
      ]
     },
     "execution_count": 19,
     "metadata": {},
     "output_type": "execute_result"
    }
   ],
   "source": [
    "from Learning.Visualisation import *\n",
    "\n",
    "plot_FeatureImportances(main_pipe)"
   ]
  },
  {
   "cell_type": "code",
   "execution_count": 20,
   "metadata": {},
   "outputs": [
    {
     "data": {
      "image/png": "[encoded data removed]",
      "text/plain": [
       "<matplotlib.figure.Figure at 0x2241d748ef0>"
      ]
     },
     "execution_count": 20,
     "metadata": {},
     "output_type": "execute_result"
    }
   ],
   "source": [
    "plot_CategoryFork_FeatureImportances(main_pipe, coverage_weighted=True)"
   ]
  },
  {
   "cell_type": "code",
   "execution_count": 21,
   "metadata": {},
   "outputs": [
    {
     "data": {
      "image/png": "[encoded data removed]",
      "text/plain": [
       "<matplotlib.figure.Figure at 0x2241cf66f28>"
      ]
     },
     "execution_count": 21,
     "metadata": {},
     "output_type": "execute_result"
    }
   ],
   "source": [
    "plot_CategoryFork_FeatureImportances(main_pipe, coverage_weighted=False)"
   ]
  },
  {
   "cell_type": "code",
   "execution_count": 22,
   "metadata": {},
   "outputs": [
    {
     "data": {
      "image/png": "[encoded data removed]",
      "text/plain": [
       "<matplotlib.figure.Figure at 0x2241d745e48>"
      ]
     },
     "execution_count": 22,
     "metadata": {},
     "output_type": "execute_result"
    }
   ],
   "source": [
    "plot_CategoryFork_prediction(main_pipe, X_test)"
   ]
  },
  {
   "cell_type": "code",
   "execution_count": null,
   "metadata": {
    "collapsed": true
   },
   "outputs": [],
   "source": []
  }
 ],
 "metadata": {
  "kernelspec": {
   "display_name": "Python 3",
   "language": "python",
   "name": "python3"
  },
  "language_info": {
   "codemirror_mode": {
    "name": "ipython",
    "version": 3
   },
   "file_extension": ".py",
   "mimetype": "text/x-python",
   "name": "python",
   "nbconvert_exporter": "python",
   "pygments_lexer": "ipython3",
   "version": "3.6.1"
  }
 },
 "nbformat": 4,
 "nbformat_minor": 2
}
