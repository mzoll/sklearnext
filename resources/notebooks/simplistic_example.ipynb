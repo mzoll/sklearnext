{
 "cells": [
  {
   "cell_type": "code",
   "execution_count": 1,
   "metadata": {},
   "outputs": [],
   "source": [
    "import sys, os, pathlib\n",
    "sys.path.insert(0, str(pathlib.Path(os.getcwd()).parents[1] / 'python'))"
   ]
  },
  {
   "cell_type": "code",
   "execution_count": 2,
   "metadata": {
    "collapsed": true
   },
   "outputs": [],
   "source": [
    "#some basic imports\n",
    "import sys, os, copy\n",
    "import numpy as np\n",
    "import datetime as dt\n",
    "import pandas as pd"
   ]
  },
  {
   "cell_type": "code",
   "execution_count": 3,
   "metadata": {
    "scrolled": true
   },
   "outputs": [
    {
     "name": "stdout",
     "output_type": "stream",
     "text": [
      "(10000, 4) Index(['Cont', 'Device', 'Label', 'Time'], dtype='object')\n"
     ]
    }
   ],
   "source": [
    "# construct a dataset with some observations and all kind of mixed lables\n",
    "nObs = 10000\n",
    "\n",
    "idx = np.array(list(range(nObs))) + 1000\n",
    "c0 = np.random.choice(['A','B'], size=nObs)\n",
    "\n",
    "c1_h = np.random.choice([12,13,14], size=nObs)\n",
    "c1_d = np.random.choice([0,1], size=nObs)\n",
    "c1_s = np.random.randint(60, size=nObs)\n",
    "\n",
    "c1 = []\n",
    "for i in range(nObs):\n",
    "    c1.append( dt.datetime(2017,1,1,0,0,0) + dt.timedelta(days=int(c1_d[i]), hours=int(c1_h[i]), minutes=int(c1_s[i])) )\n",
    "\n",
    "c2 = np.random.choice(['a','b','c'], size=nObs)\n",
    "c3 = np.round(np.random.rand(nObs), 2)\n",
    "\n",
    "X = pd.DataFrame({'Device': c0,\n",
    "             'Time': c1,\n",
    "             'Label':c2,\n",
    "             'Cont':c3}, index = idx)\n",
    "\n",
    "print(X.shape, X.columns)"
   ]
  },
  {
   "cell_type": "code",
   "execution_count": 4,
   "metadata": {},
   "outputs": [
    {
     "name": "stdout",
     "output_type": "stream",
     "text": [
      "(10000,) coverage 0.146700\n"
     ]
    }
   ],
   "source": [
    "class xthelper():\n",
    "    j = 0\n",
    "    def __int__(self):\n",
    "        pass\n",
    "    def __call__(self, row):\n",
    "        dev_dict = {'A':0.3, 'B':0.8}\n",
    "        label_dict = {'a':0.8, 'b':0.6, 'c':0.7}\n",
    "        prob =  ( 0.5 + 0.1*c1_d[self.j] - (c1_h[self.j]-12)*0.5 ) * label_dict[row['Label']] + (row['Cont']-0.5)/4\n",
    "        prob = max(min(1.,prob), 0.)\n",
    "\n",
    "        self.j+=1\n",
    "        if row['Device'] == 'A':\n",
    "            return int(prob>0.3)\n",
    "        else:\n",
    "            return int(prob>0.5)\n",
    "    \n",
    "y= X.apply(xthelper(), axis=1)\n",
    "\n",
    "print(y.shape, \"coverage %f\" % (np.sum(y)/y.shape[0]))"
   ]
  },
  {
   "cell_type": "code",
   "execution_count": 5,
   "metadata": {
    "collapsed": true
   },
   "outputs": [],
   "source": [
    "#split up dataset into train and (held out)test sample\n",
    "msk = np.random.rand(len(X)) < 0.8\n",
    "X_train = X[msk]\n",
    "X_test = X[~msk]\n",
    "y_train = y[msk]\n",
    "y_test = y[~msk]"
   ]
  },
  {
   "cell_type": "code",
   "execution_count": 6,
   "metadata": {
    "collapsed": true
   },
   "outputs": [],
   "source": [
    "#==== PIPELINE ASSEMBLY\n",
    "from Learning.Assembly import *\n",
    "from Learning.GBDTreeLearner import GrowingGBClassifier\n",
    "from Learning.GeneralTransformers import *"
   ]
  },
  {
   "cell_type": "code",
   "execution_count": 7,
   "metadata": {
    "collapsed": true
   },
   "outputs": [],
   "source": [
    "#assemble the pipeline by bits an pieces\n",
    "\n",
    "#OneHot/Label encoding for feature 'Label'\n",
    "tf0 = TransformerPipe([\n",
    "        ('pagehistExtr', ColumnsSelect(['Label'])),\n",
    "        ('labelEnc', LabelDummyTransformer())\n",
    "    ])\n",
    "\n",
    "#Extraction of Hour and Day-of-Month fromfeature  'Time'\n",
    "tf1 = TransformerPipe([\n",
    "        ('starttimeExtr', ColumnsSelect('Time')),\n",
    "        ('hwdmyExtr', HourWeekdayDayMonthYearTransformer()),\n",
    "        ('hwdselect', ColumnsSelect(['Time_hour', 'Time_day']))\n",
    "    ])\n",
    "\n",
    "#assemble a set of to use features\n",
    "fu = FeatureUnion([\n",
    "        ('tf0', tf0),\n",
    "        ('tf1', tf1),\n",
    "        ('tf2', ColumnsSelect('Cont')) # feature 'Cont' could have been wrapped into its own pipeline,\n",
    "                                       # but no need to convolute as already in correct format\n",
    "    ], n_jobs= 1)\n",
    "\n",
    "#define a Classifier estimator; here one that is smarter as the average by growing additional trees\n",
    "c0 = GrowingGBClassifier(ntrees_start = 100,\n",
    "            ntress_increment = 10,\n",
    "            est_params = {'max_depth': 3,\n",
    "                          'max_features': None}, #auto\n",
    "            scoring = 'log_loss',\n",
    "            min_score_improvement = 1e-5,\n",
    "            nrounds_noimp = 2,\n",
    "            nrounds_stop = sys.maxsize,\n",
    "            cv_test_frac = 0.2, \n",
    "            cv_n_splits = 3)\n",
    "\n",
    "#as we are interested in the probabilities rather than the absolute binary calssification wrap it down once\n",
    "cc0 = OneProbClassifierWrapper(c0, predictClass=1)\n",
    "\n",
    "#this is already a complete pipeline, which uses all features except 'Device'\n",
    "pred_pipe = Pipeline([\n",
    "        (\"fu\",fu),\n",
    "        (\"cc0\", cc0)\n",
    "    ])"
   ]
  },
  {
   "cell_type": "code",
   "execution_count": 8,
   "metadata": {
    "collapsed": true
   },
   "outputs": [],
   "source": [
    "#OneHot/Label encoding for feature 'Label'"
   ]
  },
  {
   "cell_type": "code",
   "execution_count": 9,
   "metadata": {
    "collapsed": true
   },
   "outputs": [],
   "source": [
    "cf = CategoryFork(pred_pipe,\n",
    "                  'Device',\n",
    "                  [('A'),('B')],\n",
    "                  n_jobs=1 )\n",
    "\n",
    "main_pipe = cf"
   ]
  },
  {
   "cell_type": "code",
   "execution_count": 10,
   "metadata": {},
   "outputs": [
    {
     "name": "stdout",
     "output_type": "stream",
     "text": [
      "resetting estimator to null-state\n",
      "call from <Learning.GBDTreeLearner.GrowingGBClassifier object at 0x000001FB5770DB00>\n",
      "round n_est meter\n",
      "0 5 -0.300831\n",
      "1 10 -0.190938\n",
      "2 15 -0.130914\n",
      "3 20 -0.093784\n",
      "4 25 -0.070503\n",
      "5 30 -0.055837\n",
      "6 35 -0.046108\n",
      "7 40 -0.038599\n",
      "8 45 -0.032150\n",
      "9 50 -0.027736\n",
      "10 55 -0.024341\n",
      "11 60 -0.021410\n",
      "12 65 -0.018936\n",
      "13 70 -0.016874\n",
      "14 75 -0.015136\n",
      "15 80 -0.013577\n",
      "16 85 -0.012394\n",
      "17 90 -0.011370\n",
      "18 95 -0.010318\n",
      "19 100 -0.009358\n",
      "20 105 -0.008617\n",
      "21 110 -0.007730\n",
      "22 115 -0.007125\n",
      "23 120 -0.006559\n",
      "24 125 -0.005983\n",
      "25 130 -0.005307\n",
      "26 135 -0.004770\n",
      "27 140 -0.004358\n",
      "28 145 -0.004040\n",
      "29 150 -0.003767\n",
      "30 155 -0.003413\n",
      "31 160 -0.003104\n",
      "32 165 -0.002866\n",
      "33 170 -0.002676\n",
      "34 175 -0.002499\n",
      "35 180 -0.002309\n",
      "36 185 -0.002117\n",
      "37 190 -0.001965\n",
      "38 195 -0.001808\n",
      "39 200 -0.001721\n",
      "40 205 -0.001609\n",
      "41 210 -0.001519\n",
      "42 215 -0.001470\n",
      "43 220 -0.001420\n",
      "44 225 -0.001356\n",
      "45 230 -0.001325\n",
      "46 235 -0.001239\n",
      "47 240 -0.001118\n",
      "48 245 -0.001067\n",
      "49 250 -0.001036\n",
      "50 255 -0.000943\n",
      "51 260 -0.000851\n",
      "52 265 -0.000797\n",
      "53 270 -0.000787\n",
      "54 275 -0.000769\n",
      "55 280 -0.000777\n",
      "56 285 -0.000714\n",
      "57 290 -0.000700\n",
      "58 295 -0.000641\n",
      "59 300 -0.000635\n",
      "60 305 -0.000560\n",
      "61 310 -0.000509\n",
      "62 315 -0.000469\n",
      "63 320 -0.000460\n",
      "64 325 -0.000412\n",
      "65 330 -0.000391\n",
      "66 335 -0.000383\n",
      "67 340 -0.000385\n",
      "no improvement for 2 rounds\n",
      "With 330 estimators:: TrainScore(cv-test): -0.000391 , TrainScore(all): -0.000082\n",
      "resetting estimator to null-state\n",
      "call from <Learning.GBDTreeLearner.GrowingGBClassifier object at 0x000001FB578D1048>\n",
      "round n_est meter\n",
      "0 5 -0.088892\n",
      "1 10 -0.064677\n",
      "2 15 -0.049844\n",
      "3 20 -0.039114\n",
      "4 25 -0.032034\n",
      "5 30 -0.026268\n",
      "6 35 -0.021385\n",
      "7 40 -0.017842\n",
      "8 45 -0.014963\n",
      "9 50 -0.012572\n",
      "10 55 -0.011097\n",
      "11 60 -0.009519\n",
      "12 65 -0.008352\n",
      "13 70 -0.007343\n",
      "14 75 -0.006351\n",
      "15 80 -0.005656\n",
      "16 85 -0.004845\n",
      "17 90 -0.004291\n",
      "18 95 -0.003840\n",
      "19 100 -0.003397\n",
      "20 105 -0.002918\n",
      "21 110 -0.002657\n",
      "22 115 -0.002348\n",
      "23 120 -0.002003\n",
      "24 125 -0.001782\n",
      "25 130 -0.001556\n",
      "26 135 -0.001378\n",
      "27 140 -0.001182\n",
      "28 145 -0.001060\n",
      "29 150 -0.000942\n",
      "30 155 -0.000810\n",
      "31 160 -0.000712\n",
      "32 165 -0.000624\n",
      "33 170 -0.000570\n",
      "34 175 -0.000507\n",
      "35 180 -0.000438\n",
      "36 185 -0.000399\n",
      "37 190 -0.000351\n",
      "38 195 -0.000320\n",
      "39 200 -0.000289\n",
      "40 205 -0.000265\n",
      "41 210 -0.000247\n",
      "42 215 -0.000232\n",
      "43 220 -0.000231\n",
      "44 225 -0.000231\n",
      "no improvement for 2 rounds\n",
      "With 215 estimators:: TrainScore(cv-test): -0.000232 , TrainScore(all): -0.000086\n"
     ]
    },
    {
     "data": {
      "text/plain": [
       "<Learning.Assembly.CategoryFork at 0x1fb57296160>"
      ]
     },
     "execution_count": 10,
     "metadata": {},
     "output_type": "execute_result"
    }
   ],
   "source": [
    "#train the pipeline\n",
    "main_pipe.fit(X_train, y_train)"
   ]
  },
  {
   "cell_type": "code",
   "execution_count": 11,
   "metadata": {},
   "outputs": [
    {
     "data": {
      "text/plain": [
       "8.4153734683744524e-05"
      ]
     },
     "execution_count": 11,
     "metadata": {},
     "output_type": "execute_result"
    }
   ],
   "source": [
    "# predict and verify the training by itself:\n",
    "#this score is a combination of the training scores in each subpipeline in cf\n",
    "y_train_pred = main_pipe.predict(X_train)\n",
    "from sklearn.metrics import log_loss\n",
    "log_loss(y_train, y_train_pred)"
   ]
  },
  {
   "cell_type": "code",
   "execution_count": 12,
   "metadata": {},
   "outputs": [
    {
     "data": {
      "text/plain": [
       "0.0001863907627979889"
      ]
     },
     "execution_count": 12,
     "metadata": {},
     "output_type": "execute_result"
    }
   ],
   "source": [
    "#measure performance on the held out data set\n",
    "y_test_pred = main_pipe.predict(X_test)\n",
    "from sklearn.metrics import log_loss\n",
    "log_loss(y_test, y_test_pred)"
   ]
  },
  {
   "cell_type": "code",
   "execution_count": 13,
   "metadata": {},
   "outputs": [
    {
     "name": "stdout",
     "output_type": "stream",
     "text": [
      "RocAuc score :: train: 1.000000  test: 1.000000  diff: -1.110223e-16\n",
      "LogLoss :: train: 0.000084  test: 0.000186  diff: -1.022370e-04\n",
      "Adapted LogLoss :: train: -0.417496  test: -0.414325  diff: -3.170837e-03\n"
     ]
    }
   ],
   "source": [
    "from Learning.Metric import *\n",
    "ClassifierOvertrainCheck(main_pipe, X_train, y_train, X_test, y_test)"
   ]
  },
  {
   "cell_type": "code",
   "execution_count": 14,
   "metadata": {},
   "outputs": [
    {
     "data": {
      "text/plain": [
       "8.1872337177694312e-05"
      ]
     },
     "execution_count": 14,
     "metadata": {},
     "output_type": "execute_result"
    }
   ],
   "source": [
    "#look into the category fork and have a re-analysis of the Device=='A' predictions\n",
    "\n",
    "Xp0_train = X_train.loc[X_train['Device']=='A']\n",
    "yp0_train = y_train.loc[X_train['Device']=='A']\n",
    "pred_pipe_0 = cf.pipeline_list_[0]\n",
    "\n",
    "yp0_train_pred = pred_pipe_0.predict(Xp0_train)\n",
    "\n",
    "log_loss(yp0_train, yp0_train_pred)"
   ]
  },
  {
   "cell_type": "code",
   "execution_count": 15,
   "metadata": {},
   "outputs": [
    {
     "data": {
      "text/plain": [
       "0.00027703012679073589"
      ]
     },
     "execution_count": 15,
     "metadata": {},
     "output_type": "execute_result"
    }
   ],
   "source": [
    "Xp0_test = X_test.loc[X_test['Device']=='A']\n",
    "yp0_test = y_test.loc[X_test['Device']=='A']\n",
    "pred_pipe_0 = cf.pipeline_list_[0]\n",
    "\n",
    "yp0_test_pred = pred_pipe_0.predict(Xp0_test)\n",
    "\n",
    "log_loss(yp0_test, yp0_test_pred)"
   ]
  },
  {
   "cell_type": "code",
   "execution_count": 16,
   "metadata": {},
   "outputs": [
    {
     "data": {
      "text/plain": [
       "[('tf1__Time_hour', [0.46934602202352438, 0.33380190712580526]),\n",
       " ('tf0__Label_c', [0.06212611346571608, 0.027412135285871601]),\n",
       " ('tf0__Label_a', [0.057258423987853586, 0.046018136795468449]),\n",
       " ('tf2__Cont', [0.28760686461390039, 0.36265309140530572]),\n",
       " ('tf1__Time_day', [0.069223192939917355, 0.13531594254822848]),\n",
       " ('tf0__Label_b', [0.042318170847875931, 0.066891810095134452])]"
      ]
     },
     "execution_count": 16,
     "metadata": {},
     "output_type": "execute_result"
    }
   ],
   "source": [
    "#have a look at the most important features for each pipeline\n",
    "fi_deep = cf.get_feature_importances_deep()\n",
    "fi_deep"
   ]
  },
  {
   "cell_type": "code",
   "execution_count": 17,
   "metadata": {},
   "outputs": [
    {
     "data": {
      "text/plain": [
       "[('tf0__Label_a', 0.057258423987853586),\n",
       " ('tf0__Label_b', 0.042318170847875931),\n",
       " ('tf0__Label_c', 0.06212611346571608),\n",
       " ('tf1__Time_hour', 0.46934602202352438),\n",
       " ('tf1__Time_day', 0.069223192939917355),\n",
       " ('tf2__Cont', 0.28760686461390039)]"
      ]
     },
     "execution_count": 17,
     "metadata": {},
     "output_type": "execute_result"
    }
   ],
   "source": [
    "fi = pred_pipe_0.get_feature_importances()\n",
    "fi"
   ]
  },
  {
   "cell_type": "code",
   "execution_count": 18,
   "metadata": {
    "collapsed": true
   },
   "outputs": [],
   "source": [
    "#have a look at the most important features\n",
    "fi = cf.get_feature_importances()"
   ]
  },
  {
   "cell_type": "code",
   "execution_count": 19,
   "metadata": {
    "collapsed": true
   },
   "outputs": [],
   "source": [
    "from Learning.Visualisation import *"
   ]
  },
  {
   "cell_type": "code",
   "execution_count": 20,
   "metadata": {},
   "outputs": [
    {
     "data": {
      "image/png": "[encoded data removed]",
      "text/plain": [
       "<matplotlib.figure.Figure at 0x1fb597efb38>"
      ]
     },
     "execution_count": 20,
     "metadata": {},
     "output_type": "execute_result"
    }
   ],
   "source": [
    "plot_FeatureImportances(main_pipe)"
   ]
  },
  {
   "cell_type": "code",
   "execution_count": 21,
   "metadata": {},
   "outputs": [
    {
     "data": {
      "image/png": "[encoded data removed]",
      "text/plain": [
       "<matplotlib.figure.Figure at 0x1fb580abf28>"
      ]
     },
     "execution_count": 21,
     "metadata": {},
     "output_type": "execute_result"
    }
   ],
   "source": [
    "plot_CategoryFork_FeatureImportances(main_pipe)"
   ]
  },
  {
   "cell_type": "code",
   "execution_count": 23,
   "metadata": {},
   "outputs": [
    {
     "data": {
      "image/png": "[encoded data removed]",
      "text/plain": [
       "<matplotlib.figure.Figure at 0x1fb57eb1fd0>"
      ]
     },
     "execution_count": 23,
     "metadata": {},
     "output_type": "execute_result"
    }
   ],
   "source": [
    "plot_CategoryFork_prediction(main_pipe, X_test)"
   ]
  },
  {
   "cell_type": "code",
   "execution_count": null,
   "metadata": {
    "collapsed": true
   },
   "outputs": [],
   "source": []
  }
 ],
 "metadata": {
  "kernelspec": {
   "display_name": "Python 3",
   "language": "python",
   "name": "python3"
  },
  "language_info": {
   "codemirror_mode": {
    "name": "ipython",
    "version": 3
   },
   "file_extension": ".py",
   "mimetype": "text/x-python",
   "name": "python",
   "nbconvert_exporter": "python",
   "pygments_lexer": "ipython3",
   "version": "3.6.1"
  }
 },
 "nbformat": 4,
 "nbformat_minor": 2
}
