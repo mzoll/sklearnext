{
 "cells": [
  {
   "cell_type": "code",
   "execution_count": 1,
   "metadata": {
    "collapsed": true
   },
   "outputs": [],
   "source": [
    "import sys\n",
    "import pathlib\n",
    "base_path = \"C:/Users/marcel.zoll/Documents/repo/tfs_marzol/Marcel/pythonize\"\n",
    "sys.path.insert(0, base_path+\"/Sklearning\")"
   ]
  },
  {
   "cell_type": "code",
   "execution_count": 2,
   "metadata": {
    "collapsed": true
   },
   "outputs": [],
   "source": [
    "'''\n",
    "simplistic example showing how to use the modules contained in sklearnext\n",
    "'''\n",
    "\n",
    "\n",
    "#import sys, os, pathlib\n",
    "#sys.path.insert(0, str(pathlib.Path(os.getcwd()).parents[1] / 'python'))\n",
    "\n",
    "#some basic imports\n",
    "import sys, os, copy\n",
    "import numpy as np\n",
    "import datetime as dt\n",
    "import pandas as pd"
   ]
  },
  {
   "cell_type": "code",
   "execution_count": 3,
   "metadata": {},
   "outputs": [
    {
     "name": "stdout",
     "output_type": "stream",
     "text": [
      "(10000, 4) Index(['Cont', 'Device', 'Label', 'Time'], dtype='object')\n",
      "(10000,) coverage 0.169300\n",
      "(8000, 4) (8000,) (2000, 4) (2000,)\n"
     ]
    }
   ],
   "source": [
    "#=========================================================================\n",
    "# construct a dataset with some observations and all kind of mixed lables\n",
    "#=========================================================================\n",
    "\n",
    "#--- define the sample size\n",
    "nObs = 10000\n",
    "\n",
    "#--- create a observation matrix\n",
    "idx = np.array(list(range(nObs))) + 1000\n",
    "c0 = np.array(np.random.choice(['A','B'], size=int(nObs*0.8)).tolist() + ['A']*int(nObs*0.2) )\n",
    "\n",
    "c1_h = np.random.choice([12,13,14], size=nObs)\n",
    "c1_d = np.random.choice([0,1], size=nObs)\n",
    "c1_s = np.random.randint(60, size=nObs)\n",
    "\n",
    "c1 = []\n",
    "for i in range(nObs):\n",
    "    c1.append( dt.datetime(2017,1,1,0,0,0) + dt.timedelta(days=int(c1_d[i]), hours=int(c1_h[i]), minutes=int(c1_s[i])) )\n",
    "\n",
    "c2 = np.random.choice(['a','b','c'], size=nObs)\n",
    "c3 = np.round(np.random.rand(nObs), 2)\n",
    "\n",
    "X = pd.DataFrame({'Device': c0,\n",
    "             'Time': c1,\n",
    "             'Label':c2,\n",
    "             'Cont':c3}, index = idx)\n",
    "\n",
    "print(X.shape, X.columns)\n",
    "\n",
    "#--- create a results vector\n",
    "class xthelper():\n",
    "    j = 0\n",
    "    def __int__(self):\n",
    "        pass\n",
    "    def __call__(self, row):\n",
    "        dev_dict = {'A':0.3, 'B':0.8}\n",
    "        label_dict = {'a':0.8, 'b':0.6, 'c':0.7}\n",
    "        prob =  ( 0.5 + 0.1*c1_d[self.j] - (c1_h[self.j]-12)*0.5 ) * label_dict[row['Label']] + (row['Cont']-0.5)/4\n",
    "        prob = max(min(1.,prob), 0.)\n",
    "\n",
    "        self.j+=1\n",
    "        if row['Device'] == 'A':\n",
    "            return int(prob>0.3)\n",
    "        else:\n",
    "            return int(prob>0.5)\n",
    "    \n",
    "y= X.apply(xthelper(), axis=1)\n",
    "\n",
    "print(y.shape, \"coverage %f\" % (np.sum(y)/y.shape[0]))\n",
    "\n",
    "#split up dataset into train and (held out)test sample\n",
    "from sklearn.model_selection import train_test_split\n",
    "X_train, X_test, y_train, y_test = train_test_split(X, y, test_size=.2, random_state=0)\n",
    "\n",
    "print(X_train.shape, y_train.shape, X_test.shape, y_test.shape)"
   ]
  },
  {
   "cell_type": "code",
   "execution_count": 9,
   "metadata": {},
   "outputs": [],
   "source": [
    "#======================\n",
    "# PIPELINE ASSEMBLY\n",
    "#======================\n",
    "from sklearnext.Assembly import *\n",
    "from sklearnext.Sklearning.GBDTreeLearner import *\n",
    "from sklearnext.Sklearning.OneProbClassifier import *\n",
    "from sklearnext.Learning.Learner import *\n",
    "from sklearnext.Transformers.General import *\n",
    "\n",
    "#assemble the pipeline by bits an pieces\n",
    "\n",
    "#OneHot/Label encoding for feature 'Label'\n",
    "tf0 = TransformerPipe([\n",
    "        ('pagehistExtr', ColumnsSelect(['Label'])),\n",
    "        ('labelEnc', LabelDummyTransformer())\n",
    "    ])\n",
    "\n",
    "#Extraction of Hour and Day-of-Month fromfeature  'Time'\n",
    "tf1 = TransformerPipe([\n",
    "        ('starttimeExtr', ColumnsSelect('Time')),\n",
    "        ('hwdmyExtr', HourWeekdayDayMonthYearTransformer()),\n",
    "        ('hwdselect', ColumnsSelect(['Time_hour', 'Time_day']))\n",
    "    ])\n",
    "\n",
    "#assemble a set of to use features\n",
    "fu = FeatureUnion([\n",
    "        ('tf0', tf0),\n",
    "        ('tf1', tf1),\n",
    "        ('tf2', ColumnsSelect('Cont')) # feature 'Cont' could have been wrapped into its own pipeline,\n",
    "                                       # but no need to convolute as already in correct format\n",
    "    ], n_jobs= 1)\n",
    "\n",
    "#define a Classifier estimator; here one that is smarter as the average by growing additional trees\n",
    "skl_c0 = GrowingGBClassifier(ntrees_start = 100,\n",
    "            ntress_increment = 10,\n",
    "            est_params = {'max_depth': 3,\n",
    "                          'max_features': None}, #auto\n",
    "            scoring = 'log_loss', #binary_roc_auc\n",
    "            min_score_improvement = 1e-5,\n",
    "            nrounds_noimp = 2,\n",
    "            nrounds_stop = sys.maxsize,\n",
    "            cv_test_frac = 0.2, \n",
    "            cv_n_splits = 3)\n",
    "                      \n",
    "#as we are interested in the probabilities rather than the absolute binary classification use this shim\n",
    "skl_cc0 = OneProbClassifierWrapper(skl_c0, predictClass=1)\n",
    "\n",
    "# as OneProbClassifier (and GrowingGBClassifier) are using the sklearn interface, make them pandas compatible\n",
    "cc0 = SklearnerWrapper(skl_cc0)\n",
    "\n",
    "#this is a complete pipeline, which uses all features except 'Device'\n",
    "pred_pipe = Pipeline([\n",
    "        (\"fu\",fu),\n",
    "        (\"cc0\", cc0)\n",
    "    ])\n",
    "\n",
    "#make a categorical fork for the feature Device, which has two levels\n",
    "cf = CategoryFork(pred_pipe,\n",
    "                  'Device',\n",
    "                  [('A'),('B')],\n",
    "                  n_jobs=1 )\n",
    "\n",
    "#define this by an alias\n",
    "main_pipe = cf"
   ]
  },
  {
   "cell_type": "code",
   "execution_count": 11,
   "metadata": {},
   "outputs": [
    {
     "name": "stdout",
     "output_type": "stream",
     "text": [
      "copy init\n",
      "done\n",
      "group done\n",
      "fit\n",
      "shapes  (4825, 6) (4825,)\n",
      "resetting estimator to null-state\n",
      "call from <sklearnext.Sklearning.GBDTreeLearner.GrowingGBClassifier object at 0x0000019491A64550>\n",
      "round n_est meter\n",
      "0 100 -0.008177\n",
      "1 110 -0.006891\n",
      "2 120 -0.005813\n",
      "3 130 -0.004962\n",
      "4 140 -0.004373\n",
      "5 150 -0.003850\n",
      "6 160 -0.003350\n",
      "7 170 -0.003079\n",
      "8 180 -0.002906\n",
      "9 190 -0.002768\n",
      "10 200 -0.002682\n",
      "11 210 -0.002620\n",
      "12 220 -0.002584\n",
      "13 230 -0.002482\n",
      "14 240 -0.002413\n",
      "15 250 -0.002454\n",
      "16 260 -0.002466\n",
      "no improvement for 2 rounds\n",
      "With 240 estimators:: TrainScore(cv-test): -0.002413 , TrainScore(all): -0.000412\n",
      "shapes  (3175, 6) (3175,)\n",
      "resetting estimator to null-state\n",
      "call from <sklearnext.Sklearning.GBDTreeLearner.GrowingGBClassifier object at 0x00000194919F97F0>\n",
      "round n_est meter\n",
      "0 100 -0.007590\n",
      "1 110 -0.007368\n",
      "2 120 -0.007214\n",
      "3 130 -0.007185\n",
      "4 140 -0.007326\n",
      "5 150 -0.007541\n",
      "no improvement for 2 rounds\n",
      "With 130 estimators:: TrainScore(cv-test): -0.007185 , TrainScore(all): -0.000678\n",
      "RocAuc score :: train: 1.000000  test: 0.999845  diff: 1.553283e-04\n",
      "LogLoss :: train: 0.000518  test: 0.004315  diff: -3.796885e-03\n",
      "Adapted LogLoss :: train: -0.452183  test: -0.458635  diff: 6.452650e-03\n",
      "[('tf0__Label_b', [0.040980305791981649, 0.040213715329674465]), ('tf0__Label_c', [0.035809287901255746, 0.02295135439311426]), ('tf2__Cont', [0.30138867569490274, 0.37897262535704063]), ('tf1__Time_hour', [0.51414989624423135, 0.42027362465051726]), ('tf1__Time_day', [0.079121105294450836, 0.08309722909467826]), ('tf0__Label_a', [0.028550729073177572, 0.054491451174975288])]\n",
      "[('tf0__Label_b', 0.040676065202253489), ('tf0__Label_c', 0.030706295540212092), ('tf2__Cont', 0.33217980571706374), ('tf1__Time_hour', 0.47689275095547606), ('tf1__Time_day', 0.080699129427666091), ('tf0__Label_a', 0.038845953157328542)]\n"
     ]
    }
   ],
   "source": [
    "#=============================\n",
    "# Train, Verify and Quantisize the model\n",
    "#=============================\n",
    "\n",
    "#--- train the pipeline\n",
    "main_pipe.fit(X_train, y_train)\n",
    "\n",
    "#--- verify the model\n",
    "from sklearnext.Metric import *\n",
    "ClassifierOvertrainCheck(main_pipe, X_train, y_train, X_test, y_test)\n",
    "\n",
    "#--- have a look at the most important features for each pipeline\n",
    "fi_deep = cf.get_feature_importances_deep()\n",
    "print(fi_deep)\n",
    "\n",
    "fi = cf.get_feature_importances()\n",
    "print(fi)"
   ]
  },
  {
   "cell_type": "code",
   "execution_count": 19,
   "metadata": {},
   "outputs": [
    {
     "data": {
      "image/png": "[encoded data removed]",
      "text/plain": [
       "<matplotlib.figure.Figure at 0x194901bde48>"
      ]
     },
     "execution_count": 19,
     "metadata": {},
     "output_type": "execute_result"
    }
   ],
   "source": [
    "#--- plot the feature importances\n",
    "from sklearnext.Visualization.viz import *\n",
    "plot_FeatureImportances(main_pipe)"
   ]
  },
  {
   "cell_type": "code",
   "execution_count": 20,
   "metadata": {},
   "outputs": [
    {
     "data": {
      "image/png": "[encoded data removed]",
      "text/plain": [
       "<matplotlib.figure.Figure at 0x19491d23f60>"
      ]
     },
     "execution_count": 20,
     "metadata": {},
     "output_type": "execute_result"
    }
   ],
   "source": [
    "plot_CategoryFork_FeatureImportances(main_pipe, coverage_weighted=True)"
   ]
  },
  {
   "cell_type": "code",
   "execution_count": 21,
   "metadata": {},
   "outputs": [
    {
     "data": {
      "image/png": "[encoded data removed]",
      "text/plain": [
       "<matplotlib.figure.Figure at 0x19491c55ef0>"
      ]
     },
     "execution_count": 21,
     "metadata": {},
     "output_type": "execute_result"
    }
   ],
   "source": [
    "plot_CategoryFork_FeatureImportances(main_pipe, coverage_weighted=False)"
   ]
  },
  {
   "cell_type": "code",
   "execution_count": null,
   "metadata": {
    "collapsed": true
   },
   "outputs": [],
   "source": []
  }
 ],
 "metadata": {
  "kernelspec": {
   "display_name": "Python 3",
   "language": "python",
   "name": "python3"
  },
  "language_info": {
   "codemirror_mode": {
    "name": "ipython",
    "version": 3
   },
   "file_extension": ".py",
   "mimetype": "text/x-python",
   "name": "python",
   "nbconvert_exporter": "python",
   "pygments_lexer": "ipython3",
   "version": "3.6.1"
  }
 },
 "nbformat": 4,
 "nbformat_minor": 2
}
